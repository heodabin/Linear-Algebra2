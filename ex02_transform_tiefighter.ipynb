{
  "nbformat": 4,
  "nbformat_minor": 0,
  "metadata": {
    "colab": {
      "provenance": [],
      "include_colab_link": true
    },
    "kernelspec": {
      "name": "python3",
      "display_name": "Python 3"
    },
    "language_info": {
      "name": "python"
    }
  },
  "cells": [
    {
      "cell_type": "markdown",
      "metadata": {
        "id": "view-in-github",
        "colab_type": "text"
      },
      "source": [
        "<a href=\"https://colab.research.google.com/github/heodabin/Linear-Algebra2/blob/main/ex02_transform_tiefighter.ipynb\" target=\"_parent\"><img src=\"https://colab.research.google.com/assets/colab-badge.svg\" alt=\"Open In Colab\"/></a>"
      ]
    },
    {
      "cell_type": "markdown",
      "source": [
        "### 라이브러리 선언"
      ],
      "metadata": {
        "id": "VcKvO8KcJ9AJ"
      }
    },
    {
      "cell_type": "code",
      "source": [
        "import numpy as np\n",
        "import matplotlib.pyplot as plt\n",
        "from matplotlib.patches import Polygon\n",
        "\n",
        "INF = 1000  # 그림판 크기\n",
        "LEN = 100   # 처음 사각형의 크기"
      ],
      "metadata": {
        "id": "uwkBDldBERem"
      },
      "execution_count": null,
      "outputs": []
    },
    {
      "cell_type": "markdown",
      "source": [
        "### 축 그리기 및 사각형 그리기"
      ],
      "metadata": {
        "id": "eSiS-XHya1FY"
      }
    },
    {
      "cell_type": "code",
      "source": [
        "def draw_axis(ax):\n",
        "  ax.axhline(0, color='black', alpha=0.3)  # x-axis line\n",
        "  ax.axvline(0, color='black', alpha=0.3)  # y-axis line\n",
        "  ax.set_xlim(-INF, INF)\n",
        "  ax.set_ylim(-INF, INF)\n",
        "  ax.set_aspect('equal')  # 정사각형 모양으로 backboard 그리기"
      ],
      "metadata": {
        "id": "_fc5wJBeKXDN"
      },
      "execution_count": null,
      "outputs": []
    },
    {
      "cell_type": "code",
      "source": [
        "def draw_rectangle(ax, p1, p2, p3, p4):\n",
        "  my_polygon = Polygon([p1, p2, p3, p4])\n",
        "  ax.add_patch(my_polygon)"
      ],
      "metadata": {
        "id": "0XC7sFs9Hf3e"
      },
      "execution_count": null,
      "outputs": []
    },
    {
      "cell_type": "code",
      "source": [
        "def draw_object(ax):\n",
        "  p1 = np.array([0, 0])\n",
        "  p2 = np.array([LEN, 0])\n",
        "  p3 = np.array([LEN, LEN])\n",
        "  p4 = np.array([0, LEN])\n",
        "\n",
        "\n",
        "  draw_rectangle(ax, p1, p2, p3, p4)"
      ],
      "metadata": {
        "id": "9_fAE1_kPjsv"
      },
      "execution_count": null,
      "outputs": []
    },
    {
      "cell_type": "code",
      "source": [
        "# 그림판 선언 및 크기 설정\n",
        "fig, ax = plt.subplots(figsize=(7,7))\n",
        "\n",
        "# 축 그리기\n",
        "draw_axis(ax)\n",
        "\n",
        "# 물체 그리기\n",
        "draw_object(ax)\n",
        "\n",
        "plt.show()"
      ],
      "metadata": {
        "colab": {
          "base_uri": "https://localhost:8080/",
          "height": 605
        },
        "id": "L3r3ar9FQDKI",
        "outputId": "5595343d-94bf-4634-d46c-2dea180284a3"
      },
      "execution_count": null,
      "outputs": [
        {
          "output_type": "display_data",
          "data": {
            "text/plain": [
              "<Figure size 700x700 with 1 Axes>"
            ],
            "image/png": "[encoded data removed]"
          },
          "metadata": {}
        }
      ]
    },
    {
      "cell_type": "markdown",
      "source": [
        "### 본론\n",
        "#### 1. 변환 구현\n",
        "* translate(p, dx, dy)\n",
        "* rotate(p, theta)  \n",
        "* scale(p, sx, sy)  \n",
        "* shear_x(p, sx)  \n",
        "* shear_y(p, sy)  \n",
        "* reflect_x(p)  \n",
        "* reflect_y(p)   \n",
        "* ..."
      ],
      "metadata": {
        "id": "6txnl6M2PeUz"
      }
    },
    {
      "cell_type": "code",
      "source": [
        "# 점 p를 x축 방향으로 dx만큼, y축 방향으로 dy만큼 이동시킨 점 q를 구할 것\n",
        "# q = T(dx, dy) p1\n",
        "def translate(p, dx, dy):\n",
        "  # 1. 동차좌표계 (homogeneous coordinate)으로 변환\n",
        "  hp = np.array([p[0], p[1], 1.0])\n",
        "\n",
        "  # 2. 이동 변환 행렬 생성\n",
        "  m = np.array([[1.0, 0.0, dx], [0.0, 1.0, dy], [0.0, 0.0, 1.0]])\n",
        "  \n",
        "  # 3. 행렬과 벡터의 곱\n",
        "  q = np.dot(m, hp)  # (3,3) x (3,1) -> (3,1)\n",
        "  #print(q)\n",
        "\n",
        "  # 4. 2차원 좌표계로 변환\n",
        "  q = np.array([q[0], q[1]])\n",
        "  return q\n",
        "\n",
        "def scale(p, sx, sy):\n",
        "    hp = np.array([p[0],p[1],1.0])\n",
        "\n",
        "    m = np.array([[sx, 0.0, 0.0],[0.0, sy, 0.0],[0.0, 0.0, 1.0]])\n",
        "\n",
        "    q = np.dot(m, hp) # (3,3)X(3,1)->(3,1)\n",
        "\n",
        "    q = np.array([q[0], q[1]])\n",
        "    return q\n",
        "\n",
        "def rotate(p, theta):\n",
        "    hp = np.array([p[0],p[1],1.0])\n",
        "\n",
        "    m = np.array([[np.cos(theta),-1*(np.sin(theta)),0.0],[np.sin(theta),np.cos(theta),0.0],[0.0,0.0,1.0]])\n",
        "\n",
        "    q = np.dot(m, hp) # (3,3)X(3,1)->(3,1)\n",
        "\n",
        "    q = np.array([q[0], q[1]])\n",
        "    return q\n",
        "\n",
        "def shear_x(p, sx):\n",
        "    hp = np.array([p[0],p[1],1.0])\n",
        "\n",
        "    m = np.array([[1.0, sx, 0.0],[0.0, 1.0, 0.0],[0.0, 0.0, 1.0]])\n",
        "\n",
        "    q = np.dot(m, hp) # (3,3)X(3,1)->(3,1)\n",
        "\n",
        "    q = np.array([q[0], q[1]])\n",
        "\n",
        "    return q\n",
        "\n",
        "def shear_y(p, sy):\n",
        "    hp = np.array([p[0],p[1],1.0])\n",
        "\n",
        "    m = np.array([[1.0, 0.0, 0.0],[sy, 1.0, 0.0],[0.0, 0.0, 1.0]])\n",
        "\n",
        "    q = np.dot(m, hp) # (3,3)X(3,1)->(3,1)\n",
        "\n",
        "    q = np.array([q[0], q[1]])\n",
        "\n",
        "    return q\n",
        "\n",
        "def reflect_x(p):\n",
        "    hp = np.array([p[0],p[1],1.0])\n",
        "\n",
        "    m = np.array([[1.0, 0.0, 0.0],[0.0, -1.0, 0.0],[0.0, 0.0, 1.0]])\n",
        "\n",
        "    q = np.dot(m, hp) # (3,3)X(3,1)->(3,1)\n",
        "\n",
        "    q = np.array([q[0], q[1]])\n",
        "\n",
        "    return q\n",
        "\n",
        "def reflect_y(p):\n",
        "    hp = np.array([p[0],p[1],1.0])\n",
        "\n",
        "    m = np.array([[-1.0, 0.0, 0.0],[0.0, 1.0, 0.0],[0.0, 0.0, 1.0]])\n",
        "\n",
        "    q = np.dot(m, hp) # (3,3)X(3,1)->(3,1)\n",
        "\n",
        "    q = np.array([q[0], q[1]])\n",
        "\n",
        "    return q\n",
        "\n"
      ],
      "metadata": {
        "id": "g1iKgeNoP-Bu"
      },
      "execution_count": null,
      "outputs": []
    },
    {
      "cell_type": "markdown",
      "source": [
        "#### 2. 파트 그리기\n",
        "* draw_cockpit(p1, p2, p3, p4)    # 중앙 조종석\n",
        "* draw_left_arm(p1, p2, p3, p4)   # 왼쪽 날개축\n",
        "* draw_left_wing(p1, p2, p3, p4)  # 왼쪽 날개\n",
        "* draw_right_arm(p1, p2, p3, p4)  # 오른쪽 날개축\n",
        "* draw_right_wing(p1, p2, p3, p4) # 오른쪽 날개"
      ],
      "metadata": {
        "id": "E_jHSezpTC-9"
      }
    },
    {
      "cell_type": "code",
      "source": [
        "def draw_cockpit(ax, p1, p2, p3, p4):  # 중앙 조종석\n",
        "  # 1. 사각형을 원점으로 이동 변환: T(-LEN/2, -LEN/2)\n",
        "  # q = T(-LEN/2, -LEN/2)p\n",
        "  q1 = translate(p1, -LEN/2, -LEN/2)\n",
        "  q2 = translate(p2, -LEN/2, -LEN/2)\n",
        "  q3 = translate(p3, -LEN/2, -LEN/2)\n",
        "  q4 = translate(p4, -LEN/2, -LEN/2)\n",
        "\n",
        "  \n",
        "  # 2. 크기 변환: S(5, 5)\n",
        "  s = 5\n",
        "  q1 = scale(q1, s, s)\n",
        "  q2 = scale(q2, s, s)\n",
        "  q3 = scale(q3, s, s)\n",
        "  q4 = scale(q4, s, s)\n",
        "  \n",
        "  # 3. 회전 변환: R(pi/4)\n",
        "  q1 = rotate(q1, 3.14/4.0)\n",
        "  q2 = rotate(q2, 3.14/4.0)\n",
        "  q3 = rotate(q3, 3.14/4.0)\n",
        "  q4 = rotate(q4, 3.14/4.0)\n",
        "  \n",
        "\n",
        "  # 4. polygon 그리기 \n",
        "  draw_rectangle(ax, q1, q2, q3, q4)"
      ],
      "metadata": {
        "id": "6C7a4CH4HSj0"
      },
      "execution_count": null,
      "outputs": []
    },
    {
      "cell_type": "code",
      "source": [
        "def draw_left_arm(ax, p1, p2, p3, p4): # 왼쪽 날개축\n",
        "\n",
        "  tl = 350\n",
        "  tr = 0\n",
        "  q1 = translate(p1, tl, tr)\n",
        "  q2 = translate(p2, tl, tr)\n",
        "  q3 = translate(p3, tl, tr)\n",
        "  q4 = translate(p4, tl, tr)\n",
        "\n",
        "  sh = -4\n",
        "  q1 = shear_x(q1, sh)\n",
        "  q2 = shear_x(q2, sh)\n",
        "  q3 = shear_x(q3, sh)\n",
        "  q4 = shear_x(q4, sh)\n",
        "\n",
        "  s = 2\n",
        "  q1 = scale(q1, s, s)\n",
        "  q2 = scale(q2, s, s)\n",
        "  q3 = scale(q3, s, s)\n",
        "  q4 = scale(q4, s, s)\n",
        "\n",
        "  draw_rectangle(ax, q1, q2, q3, q4)\n",
        "\n",
        "  q1 = reflect_x(q1)\n",
        "  q2 = reflect_x(q2)\n",
        "  q3 = reflect_x(q3)\n",
        "  q4 = reflect_x(q4)\n",
        "\n",
        "  draw_rectangle(ax, q1, q2, q3, q4)"
      ],
      "metadata": {
        "id": "St50hGWi6RS4"
      },
      "execution_count": null,
      "outputs": []
    },
    {
      "cell_type": "code",
      "source": [
        "def draw_left_wing(ax, p1, p2, p3, p4): #왼쪽 날개\n",
        "\n",
        "  s1 = 2\n",
        "  s2 = 7\n",
        "  q1 = scale(p1, s1, s1)\n",
        "  q2 = scale(p2, s1, s2)\n",
        "  q3 = scale(p3, s1, s2)\n",
        "  q4 = scale(p4, s1, s2)\n",
        "\n",
        "\n",
        "  sh = 1\n",
        "  q1 = shear_y(q1, sh)\n",
        "  q2 = shear_y(q2, sh)\n",
        "  q3 = shear_y(q3, sh)\n",
        "  q4 = shear_y(q4, sh)\n",
        "\n",
        "  tl = 700\n",
        "  tr = -640\n",
        "  q1 = translate(q1, tl, tr)\n",
        "  q2 = translate(q2, tl, tr)\n",
        "  q3 = translate(q3, tl, tr)\n",
        "  q4 = translate(q4, tl, tr)\n",
        "\n",
        "  q1 = rotate(q1, 3.14/3.5)\n",
        "  q2 = rotate(q2, 3.14/3.5)\n",
        "  q3 = rotate(q3, 3.14/3.5)\n",
        "  q4 = rotate(q4, 3.14/3.5)\n",
        "\n",
        "\n",
        "  draw_rectangle(ax, q1, q2, q3, q4)\n",
        "\n",
        "  q1 = reflect_x(q1)\n",
        "  q2 = reflect_x(q2)\n",
        "  q3 = reflect_x(q3)\n",
        "  q4 = reflect_x(q4)\n",
        "\n",
        "  draw_rectangle(ax, q1, q2, q3, q4)\n",
        "\n",
        "  s1 = 1.5\n",
        "  s2 = 6\n",
        "  q1 = scale(p1, s1, s1)\n",
        "  q2 = scale(p2, s1, s2)\n",
        "  q3 = scale(p3, s1, s2)\n",
        "  q4 = scale(p4, s1, s2)\n",
        "\n",
        "\n",
        "  sh = 0.5\n",
        "  q1 = shear_y(q1, sh)\n",
        "  q2 = shear_y(q2, sh)\n",
        "  q3 = shear_y(q3, sh)\n",
        "  q4 = shear_y(q4, sh)\n",
        "\n",
        "  tl = 785\n",
        "  tr = -250\n",
        "  q1 = translate(q1, tl, tr)\n",
        "  q2 = translate(q2, tl, tr)\n",
        "  q3 = translate(q3, tl, tr)\n",
        "  q4 = translate(q4, tl, tr)\n",
        "\n",
        "\n",
        "  draw_rectangle(ax, q1, q2, q3, q4)\n",
        "\n",
        "  \n",
        "  q1 = reflect_x(q1)\n",
        "  q2 = reflect_x(q2)\n",
        "  q3 = reflect_x(q3)\n",
        "  q4 = reflect_x(q4)\n",
        "\n",
        "  draw_rectangle(ax, q1, q2, q3, q4)\n"
      ],
      "metadata": {
        "id": "U1Q17J_56pse"
      },
      "execution_count": null,
      "outputs": []
    },
    {
      "cell_type": "code",
      "source": [
        "def draw_right_arm(ax, p1, p2, p3, p4): #오른쪽 날개축\n",
        "\n",
        "  tl = -450\n",
        "  tr = 0\n",
        "  q1 = translate(p1, tl, tr)\n",
        "  q2 = translate(p2, tl, tr)\n",
        "  q3 = translate(p3, tl, tr)\n",
        "  q4 = translate(p4, tl, tr)\n",
        "\n",
        "  sh = 4\n",
        "  q1 = shear_x(q1, sh)\n",
        "  q2 = shear_x(q2, sh)\n",
        "  q3 = shear_x(q3, sh)\n",
        "  q4 = shear_x(q4, sh)\n",
        "\n",
        "  s = 2\n",
        "  q1 = scale(q1, s, s)\n",
        "  q2 = scale(q2, s, s)\n",
        "  q3 = scale(q3, s, s)\n",
        "  q4 = scale(q4, s, s)\n",
        "\n",
        "  draw_rectangle(ax, q1, q2, q3, q4)\n",
        "\n",
        "  q1 = reflect_x(q1)\n",
        "  q2 = reflect_x(q2)\n",
        "  q3 = reflect_x(q3)\n",
        "  q4 = reflect_x(q4)\n",
        "\n",
        "  draw_rectangle(ax, q1, q2, q3, q4)"
      ],
      "metadata": {
        "id": "vIne1Bq26qEt"
      },
      "execution_count": null,
      "outputs": []
    },
    {
      "cell_type": "code",
      "source": [
        "def draw_right_wing(ax, p1, p2, p3, p4): #오른쪽 날개\n",
        "  \n",
        "  s1 = 2\n",
        "  s2 = 7\n",
        "  q1 = scale(p1, s1, s1)\n",
        "  q2 = scale(p2, s1, s2)\n",
        "  q3 = scale(p3, s1, s2)\n",
        "  q4 = scale(p4, s1, s2)\n",
        "\n",
        "\n",
        "  sh = -1\n",
        "  q1 = shear_y(q1, sh)\n",
        "  q2 = shear_y(q2, sh)\n",
        "  q3 = shear_y(q3, sh)\n",
        "  q4 = shear_y(q4, sh)\n",
        "\n",
        "  tl = -860\n",
        "  tr = -415\n",
        "  q1 = translate(q1, tl, tr)\n",
        "  q2 = translate(q2, tl, tr)\n",
        "  q3 = translate(q3, tl, tr)\n",
        "  q4 = translate(q4, tl, tr)\n",
        "\n",
        "  q1 = rotate(q1, 3.14/-3.5)\n",
        "  q2 = rotate(q2, 3.14/-3.5)\n",
        "  q3 = rotate(q3, 3.14/-3.5)\n",
        "  q4 = rotate(q4, 3.14/-3.5)\n",
        "\n",
        "\n",
        "  draw_rectangle(ax, q1, q2, q3, q4)\n",
        "\n",
        "  q1 = reflect_x(q1)\n",
        "  q2 = reflect_x(q2)\n",
        "  q3 = reflect_x(q3)\n",
        "  q4 = reflect_x(q4)\n",
        "\n",
        "  draw_rectangle(ax, q1, q2, q3, q4)\n",
        "\n",
        "  s1 = 1.5\n",
        "  s2 = 6\n",
        "  q1 = scale(p1, s1, s1)\n",
        "  q2 = scale(p2, s1, s2)\n",
        "  q3 = scale(p3, s1, s2)\n",
        "  q4 = scale(p4, s1, s2)\n",
        "\n",
        "\n",
        "  sh = -0.5\n",
        "  q1 = shear_y(q1, sh)\n",
        "  q2 = shear_y(q2, sh)\n",
        "  q3 = shear_y(q3, sh)\n",
        "  q4 = shear_y(q4, sh)\n",
        "\n",
        "  tl = -890\n",
        "  tr = -170\n",
        "  q1 = translate(q1, tl, tr)\n",
        "  q2 = translate(q2, tl, tr)\n",
        "  q3 = translate(q3, tl, tr)\n",
        "  q4 = translate(q4, tl, tr)\n",
        "\n",
        "\n",
        "  draw_rectangle(ax, q1, q2, q3, q4)\n",
        "\n",
        "  \n",
        "  q1 = reflect_x(q1)\n",
        "  q2 = reflect_x(q2)\n",
        "  q3 = reflect_x(q3)\n",
        "  q4 = reflect_x(q4)\n",
        "\n",
        "  draw_rectangle(ax, q1, q2, q3, q4)"
      ],
      "metadata": {
        "id": "skc1HXGG6qcg"
      },
      "execution_count": null,
      "outputs": []
    },
    {
      "cell_type": "code",
      "execution_count": null,
      "metadata": {
        "id": "hMI0xB0pDlnU"
      },
      "outputs": [],
      "source": [
        "# 2. tiefigher 그리기\n",
        "def draw_object(ax):\n",
        "  p1 = np.array([0, 0])\n",
        "  p2 = np.array([LEN, 0])\n",
        "  p3 = np.array([LEN, LEN])\n",
        "  p4 = np.array([0, LEN])\n",
        "\n",
        "#위에 것들은 건드리지 않기\n",
        "\n",
        "\n",
        "  # 1. 중앙 조종석 그리기\n",
        "  draw_cockpit(ax, p1, p2, p3, p4)\n",
        "\n",
        "  # 2. 왼쪽 날개축 그리기\n",
        "  draw_left_arm(ax, p1, p2, p3, p4)\n",
        "\n",
        "  # 3. 왼쪽 날개 그리기\n",
        "  draw_left_wing(ax, p1, p2, p3, p4)\n",
        "\n",
        "  # 4. 오른쪽 날개축 그리기\n",
        "  draw_right_arm(ax, p1, p2, p3, p4)\n",
        "\n",
        "  # 5. 오른쪽 날개 그리기\n",
        "  draw_right_wing(ax, p1, p2, p3, p4)"
      ]
    },
    {
      "cell_type": "markdown",
      "source": [
        "### 3. main"
      ],
      "metadata": {
        "id": "24hO1zQaHiFJ"
      }
    },
    {
      "cell_type": "code",
      "source": [
        "# 그림판 선언 및 크기 설정\n",
        "fig, ax = plt.subplots(figsize=(7,7))\n",
        "\n",
        "# 축 그리기\n",
        "draw_axis(ax)\n",
        "\n",
        "# 물체 그리기\n",
        "draw_object(ax)\n",
        "\n",
        "plt.show()"
      ],
      "metadata": {
        "colab": {
          "base_uri": "https://localhost:8080/",
          "height": 605
        },
        "id": "1Bdz-KxWLLHb",
        "outputId": "171cbcaa-27a4-4df5-e1ef-3da9b14d9cb3"
      },
      "execution_count": null,
      "outputs": [
        {
          "output_type": "display_data",
          "data": {
            "text/plain": [
              "<Figure size 700x700 with 1 Axes>"
            ],
            "image/png": "[encoded data removed]"
          },
          "metadata": {}
        }
      ]
    }
  ]
}