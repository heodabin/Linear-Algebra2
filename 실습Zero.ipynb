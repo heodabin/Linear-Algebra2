{
  "nbformat": 4,
  "nbformat_minor": 0,
  "metadata": {
    "colab": {
      "provenance": [],
      "mount_file_id": "12UsF0fZCoqizsmHfSDUw57tCTOTT23uy",
      "authorship_tag": "ABX9TyMUIATFT7Ssq4fVmlZq7rCk",
      "include_colab_link": true
    },
    "kernelspec": {
      "name": "python3",
      "display_name": "Python 3"
    },
    "language_info": {
      "name": "python"
    }
  },
  "cells": [
    {
      "cell_type": "markdown",
      "metadata": {
        "id": "view-in-github",
        "colab_type": "text"
      },
      "source": [
        "<a href=\"https://colab.research.google.com/github/heodabin/Linear-Algebra2/blob/main/%EC%8B%A4%EC%8A%B5Zero.ipynb\" target=\"_parent\"><img src=\"https://colab.research.google.com/assets/colab-badge.svg\" alt=\"Open In Colab\"/></a>"
      ]
    },
    {
      "cell_type": "code",
      "execution_count": 1,
      "metadata": {
        "colab": {
          "base_uri": "https://localhost:8080/"
        },
        "id": "Qij3wmWT8i8U",
        "outputId": "a52a77cb-b766-4951-99a3-88328432c8da"
      },
      "outputs": [
        {
          "output_type": "stream",
          "name": "stdout",
          "text": [
            "Hello World\n"
          ]
        }
      ],
      "source": [
        "print(\"Hello World\")"
      ]
    },
    {
      "cell_type": "markdown",
      "source": [
        "#### 라이브러리(패키지)로드"
      ],
      "metadata": {
        "id": "YkAWZw88KBpr"
      }
    },
    {
      "cell_type": "code",
      "source": [
        "import numpy as np"
      ],
      "metadata": {
        "id": "zjgbF3OrJukJ"
      },
      "execution_count": 2,
      "outputs": []
    },
    {
      "cell_type": "markdown",
      "source": [
        "### 2.벡터, 행렬 연산, 그래프 그리기\n",
        "##### 프린트"
      ],
      "metadata": {
        "id": "O7CD1X0MKPRU"
      }
    },
    {
      "cell_type": "code",
      "source": [
        "def print_val(x):\n",
        "    print(\"Type:\", type(x))\n",
        "    print(\"Shape:\", x.shape)\n",
        "    print(\"값: \\n\", x)\n",
        "    print(\" \")"
      ],
      "metadata": {
        "id": "o0S--d8sJ8kS"
      },
      "execution_count": 3,
      "outputs": []
    },
    {
      "cell_type": "code",
      "source": [
        "#rank 1 np array\n",
        "x= np.array([1,2,3])\n",
        "print_val(x)\n",
        "\n",
        "x[0]=5\n",
        "print_val(x)"
      ],
      "metadata": {
        "colab": {
          "base_uri": "https://localhost:8080/"
        },
        "id": "LgsNT778LGsU",
        "outputId": "3796e408-bec5-45f8-86d1-db5a2edf41dc"
      },
      "execution_count": 4,
      "outputs": [
        {
          "output_type": "stream",
          "name": "stdout",
          "text": [
            "Type: <class 'numpy.ndarray'>\n",
            "Shape: (3,)\n",
            "값: \n",
            " [1 2 3]\n",
            " \n",
            "Type: <class 'numpy.ndarray'>\n",
            "Shape: (3,)\n",
            "값: \n",
            " [5 2 3]\n",
            " \n"
          ]
        }
      ]
    },
    {
      "cell_type": "code",
      "source": [
        "#rank 2 np array\n",
        "y=np.array([[1,2,3],[4,5,6]])\n",
        "print_val(y)"
      ],
      "metadata": {
        "colab": {
          "base_uri": "https://localhost:8080/"
        },
        "id": "M4QqPMGYLm4H",
        "outputId": "7a776a75-3747-4e70-8a83-19a801a4b0b2"
      },
      "execution_count": 5,
      "outputs": [
        {
          "output_type": "stream",
          "name": "stdout",
          "text": [
            "Type: <class 'numpy.ndarray'>\n",
            "Shape: (2, 3)\n",
            "값: \n",
            " [[1 2 3]\n",
            " [4 5 6]]\n",
            " \n"
          ]
        }
      ]
    },
    {
      "cell_type": "code",
      "source": [
        "#rank 2 ones\n",
        "a=np.ones((3,2))\n",
        "print_val(a)"
      ],
      "metadata": {
        "colab": {
          "base_uri": "https://localhost:8080/"
        },
        "id": "LgOA53FrLyx6",
        "outputId": "0056b5d7-223d-4f3f-f1fe-93c0942028e8"
      },
      "execution_count": 6,
      "outputs": [
        {
          "output_type": "stream",
          "name": "stdout",
          "text": [
            "Type: <class 'numpy.ndarray'>\n",
            "Shape: (3, 2)\n",
            "값: \n",
            " [[1. 1.]\n",
            " [1. 1.]\n",
            " [1. 1.]]\n",
            " \n"
          ]
        }
      ]
    },
    {
      "cell_type": "code",
      "source": [
        "#rank 2 zeros\n",
        "a=np.zeros((2,2))\n",
        "print_val(a)"
      ],
      "metadata": {
        "colab": {
          "base_uri": "https://localhost:8080/"
        },
        "id": "6YL2OL1WLr9S",
        "outputId": "eda80609-fe55-4244-8154-b5d27d053a1b"
      },
      "execution_count": 7,
      "outputs": [
        {
          "output_type": "stream",
          "name": "stdout",
          "text": [
            "Type: <class 'numpy.ndarray'>\n",
            "Shape: (2, 2)\n",
            "값: \n",
            " [[0. 0.]\n",
            " [0. 0.]]\n",
            " \n"
          ]
        }
      ]
    },
    {
      "cell_type": "code",
      "source": [
        "#rank 2 단위 행렬(identity matrix)\n",
        "a=np.eye(3,3)\n",
        "print_val(a)"
      ],
      "metadata": {
        "colab": {
          "base_uri": "https://localhost:8080/"
        },
        "id": "FMqvuxmdL8fJ",
        "outputId": "e8ff88ed-ebc9-4176-92d6-1cab3fba4301"
      },
      "execution_count": 8,
      "outputs": [
        {
          "output_type": "stream",
          "name": "stdout",
          "text": [
            "Type: <class 'numpy.ndarray'>\n",
            "Shape: (3, 3)\n",
            "값: \n",
            " [[1. 0. 0.]\n",
            " [0. 1. 0.]\n",
            " [0. 0. 1.]]\n",
            " \n"
          ]
        }
      ]
    },
    {
      "cell_type": "code",
      "source": [
        "#랜덤 행렬(uniform: 0~1 사이 모든 값들이 나올 확률이 같음)\n",
        "a=np.random.random((4,4))\n",
        "print_val(a)"
      ],
      "metadata": {
        "colab": {
          "base_uri": "https://localhost:8080/"
        },
        "id": "0slTHEjmMF_q",
        "outputId": "b2c17545-0a35-49ca-b3c4-00374690b6d5"
      },
      "execution_count": 9,
      "outputs": [
        {
          "output_type": "stream",
          "name": "stdout",
          "text": [
            "Type: <class 'numpy.ndarray'>\n",
            "Shape: (4, 4)\n",
            "값: \n",
            " [[0.4916894  0.82024215 0.14479113 0.65044895]\n",
            " [0.02773726 0.24932158 0.31524441 0.98315842]\n",
            " [0.33903421 0.97706516 0.9397816  0.54330643]\n",
            " [0.06125646 0.24164244 0.62701342 0.12690533]]\n",
            " \n"
          ]
        }
      ]
    },
    {
      "cell_type": "code",
      "source": [
        "#랜덤 행렬(Gaussian: 0을 평균으로 하는 기우시안 분포를 따르는 랜덤값)\n",
        "a=np.random.randn(4,4)\n",
        "print_val(a)"
      ],
      "metadata": {
        "colab": {
          "base_uri": "https://localhost:8080/"
        },
        "id": "xlrTqbrxMlsz",
        "outputId": "e51ac6eb-b7c0-4016-f994-52ca1d2d127e"
      },
      "execution_count": 10,
      "outputs": [
        {
          "output_type": "stream",
          "name": "stdout",
          "text": [
            "Type: <class 'numpy.ndarray'>\n",
            "Shape: (4, 4)\n",
            "값: \n",
            " [[ 1.62782391 -1.39979094 -0.20915688  0.98001185]\n",
            " [-0.51779707  0.74497795 -0.55488057 -0.23208189]\n",
            " [ 0.96064392 -0.44467719  0.0785301   0.54694846]\n",
            " [ 1.05356555 -0.29161819  0.64646474  0.85975583]]\n",
            " \n"
          ]
        }
      ]
    },
    {
      "cell_type": "code",
      "source": [
        "#np array indexing\n",
        "a=np.array([[1,2,3,4],[5,6,7,8],[9,10,11,12]])\n",
        "print_val(a)"
      ],
      "metadata": {
        "colab": {
          "base_uri": "https://localhost:8080/"
        },
        "id": "mC_X5o6vjLF8",
        "outputId": "c4f60f1c-d4e5-4d67-ca04-cfd38a8549f8"
      },
      "execution_count": 11,
      "outputs": [
        {
          "output_type": "stream",
          "name": "stdout",
          "text": [
            "Type: <class 'numpy.ndarray'>\n",
            "Shape: (3, 4)\n",
            "값: \n",
            " [[ 1  2  3  4]\n",
            " [ 5  6  7  8]\n",
            " [ 9 10 11 12]]\n",
            " \n"
          ]
        }
      ]
    },
    {
      "cell_type": "code",
      "source": [
        "b=a[:2,1:3]\n",
        "print_val(b)"
      ],
      "metadata": {
        "colab": {
          "base_uri": "https://localhost:8080/"
        },
        "id": "TrpH8PIYjheU",
        "outputId": "a673d6f5-d205-4def-92a5-6852b781305c"
      },
      "execution_count": 12,
      "outputs": [
        {
          "output_type": "stream",
          "name": "stdout",
          "text": [
            "Type: <class 'numpy.ndarray'>\n",
            "Shape: (2, 2)\n",
            "값: \n",
            " [[2 3]\n",
            " [6 7]]\n",
            " \n"
          ]
        }
      ]
    },
    {
      "cell_type": "code",
      "source": [
        "#행렬의 n번째 행 얻기\n",
        "row1=a[1,:]\n",
        "print_val(row1)"
      ],
      "metadata": {
        "colab": {
          "base_uri": "https://localhost:8080/"
        },
        "id": "xnsOuZa4jm0a",
        "outputId": "9c057fff-0246-4a90-e9d1-3848f24f1617"
      },
      "execution_count": 13,
      "outputs": [
        {
          "output_type": "stream",
          "name": "stdout",
          "text": [
            "Type: <class 'numpy.ndarray'>\n",
            "Shape: (4,)\n",
            "값: \n",
            " [5 6 7 8]\n",
            " \n"
          ]
        }
      ]
    },
    {
      "cell_type": "code",
      "source": [
        "#행렬의 원소별 연산\n",
        "m1=np.array([[1,2],[3,4]], dtype=np.float64)\n",
        "m2=np.array([[5,6],[7,8]], dtype=np.float64)"
      ],
      "metadata": {
        "id": "2a8afcXpjuwr"
      },
      "execution_count": 14,
      "outputs": []
    },
    {
      "cell_type": "code",
      "source": [
        "#elementwise sum\n",
        "print_val(m1+m2)\n",
        "print_val(np.add(m1,m2))"
      ],
      "metadata": {
        "colab": {
          "base_uri": "https://localhost:8080/"
        },
        "id": "giVD5W3qj9Wp",
        "outputId": "efdc8ef2-0a30-4315-ad43-69b816f850c6"
      },
      "execution_count": 15,
      "outputs": [
        {
          "output_type": "stream",
          "name": "stdout",
          "text": [
            "Type: <class 'numpy.ndarray'>\n",
            "Shape: (2, 2)\n",
            "값: \n",
            " [[ 6.  8.]\n",
            " [10. 12.]]\n",
            " \n",
            "Type: <class 'numpy.ndarray'>\n",
            "Shape: (2, 2)\n",
            "값: \n",
            " [[ 6.  8.]\n",
            " [10. 12.]]\n",
            " \n"
          ]
        }
      ]
    },
    {
      "cell_type": "code",
      "source": [
        "#elementwise difference\n",
        "print_val(m1-m2)\n",
        "print_val(np.subtract(m1,m2))"
      ],
      "metadata": {
        "colab": {
          "base_uri": "https://localhost:8080/"
        },
        "id": "RHjXvmGNkExL",
        "outputId": "2f0abe7e-706f-4bc5-ee1c-9fcd8396a498"
      },
      "execution_count": 16,
      "outputs": [
        {
          "output_type": "stream",
          "name": "stdout",
          "text": [
            "Type: <class 'numpy.ndarray'>\n",
            "Shape: (2, 2)\n",
            "값: \n",
            " [[-4. -4.]\n",
            " [-4. -4.]]\n",
            " \n",
            "Type: <class 'numpy.ndarray'>\n",
            "Shape: (2, 2)\n",
            "값: \n",
            " [[-4. -4.]\n",
            " [-4. -4.]]\n",
            " \n"
          ]
        }
      ]
    },
    {
      "cell_type": "code",
      "source": [
        "#elementwise product\n",
        "print_val(m1*m2)\n",
        "print_val(np.multiply(m1,m2))"
      ],
      "metadata": {
        "colab": {
          "base_uri": "https://localhost:8080/"
        },
        "id": "6u9qn4zgkOIZ",
        "outputId": "0b7c7799-273b-4e08-af72-df00a9b96250"
      },
      "execution_count": 17,
      "outputs": [
        {
          "output_type": "stream",
          "name": "stdout",
          "text": [
            "Type: <class 'numpy.ndarray'>\n",
            "Shape: (2, 2)\n",
            "값: \n",
            " [[ 5. 12.]\n",
            " [21. 32.]]\n",
            " \n",
            "Type: <class 'numpy.ndarray'>\n",
            "Shape: (2, 2)\n",
            "값: \n",
            " [[ 5. 12.]\n",
            " [21. 32.]]\n",
            " \n"
          ]
        }
      ]
    },
    {
      "cell_type": "code",
      "source": [
        "#elementwise division\n",
        "print_val(m1/m2)\n",
        "print_val(np.divide(m1,m2))"
      ],
      "metadata": {
        "colab": {
          "base_uri": "https://localhost:8080/"
        },
        "id": "cl3ZaXCYkVb8",
        "outputId": "387450d6-ccfd-476b-bbdc-a40da376db14"
      },
      "execution_count": 18,
      "outputs": [
        {
          "output_type": "stream",
          "name": "stdout",
          "text": [
            "Type: <class 'numpy.ndarray'>\n",
            "Shape: (2, 2)\n",
            "값: \n",
            " [[0.2        0.33333333]\n",
            " [0.42857143 0.5       ]]\n",
            " \n",
            "Type: <class 'numpy.ndarray'>\n",
            "Shape: (2, 2)\n",
            "값: \n",
            " [[0.2        0.33333333]\n",
            " [0.42857143 0.5       ]]\n",
            " \n"
          ]
        }
      ]
    },
    {
      "cell_type": "code",
      "source": [
        "#elementwise square root\n",
        "print_val(np.sqrt(m1))"
      ],
      "metadata": {
        "colab": {
          "base_uri": "https://localhost:8080/"
        },
        "id": "TWLvMfmXkd48",
        "outputId": "cc7eea08-51ef-4b68-c39c-abe4786f97c0"
      },
      "execution_count": 19,
      "outputs": [
        {
          "output_type": "stream",
          "name": "stdout",
          "text": [
            "Type: <class 'numpy.ndarray'>\n",
            "Shape: (2, 2)\n",
            "값: \n",
            " [[1.         1.41421356]\n",
            " [1.73205081 2.        ]]\n",
            " \n"
          ]
        }
      ]
    },
    {
      "cell_type": "markdown",
      "source": [
        "##### 행렬연산"
      ],
      "metadata": {
        "id": "5E9z1IPZkmIQ"
      }
    },
    {
      "cell_type": "code",
      "source": [
        "m1=np.array([[1,2],[3,4]])\n",
        "m2=np.array([[5,6],[7,8]])\n",
        "v1=np.array([9,10])\n",
        "v2=np.array([11,12])\n",
        "\n",
        "print_val(m1)\n",
        "print_val(m2)\n",
        "print_val(v1)\n",
        "print_val(v2)"
      ],
      "metadata": {
        "colab": {
          "base_uri": "https://localhost:8080/"
        },
        "id": "Jl8BRrlgko4B",
        "outputId": "5d766700-1717-455d-e8c0-6e64aa640795"
      },
      "execution_count": 20,
      "outputs": [
        {
          "output_type": "stream",
          "name": "stdout",
          "text": [
            "Type: <class 'numpy.ndarray'>\n",
            "Shape: (2, 2)\n",
            "값: \n",
            " [[1 2]\n",
            " [3 4]]\n",
            " \n",
            "Type: <class 'numpy.ndarray'>\n",
            "Shape: (2, 2)\n",
            "값: \n",
            " [[5 6]\n",
            " [7 8]]\n",
            " \n",
            "Type: <class 'numpy.ndarray'>\n",
            "Shape: (2,)\n",
            "값: \n",
            " [ 9 10]\n",
            " \n",
            "Type: <class 'numpy.ndarray'>\n",
            "Shape: (2,)\n",
            "값: \n",
            " [11 12]\n",
            " \n"
          ]
        }
      ]
    },
    {
      "cell_type": "markdown",
      "source": [
        "#### 벡터-벡터 연산"
      ],
      "metadata": {
        "id": "jVZYheOMlEmB"
      }
    },
    {
      "cell_type": "code",
      "source": [
        "print_val(v1.dot(v2))\n",
        "print_val(np.dot(v1,v2))"
      ],
      "metadata": {
        "colab": {
          "base_uri": "https://localhost:8080/"
        },
        "id": "8u6DU_B-lDlS",
        "outputId": "e302fccd-62be-40a7-b71e-4a71802e9065"
      },
      "execution_count": 21,
      "outputs": [
        {
          "output_type": "stream",
          "name": "stdout",
          "text": [
            "Type: <class 'numpy.int64'>\n",
            "Shape: ()\n",
            "값: \n",
            " 219\n",
            " \n",
            "Type: <class 'numpy.int64'>\n",
            "Shape: ()\n",
            "값: \n",
            " 219\n",
            " \n"
          ]
        }
      ]
    },
    {
      "cell_type": "markdown",
      "source": [
        "#### 벡터-행렬 연산"
      ],
      "metadata": {
        "id": "ZvODqIYtlOIS"
      }
    },
    {
      "cell_type": "code",
      "source": [
        "print_val(m1.dot(v1))\n",
        "print_val(np.dot(m1,v1))"
      ],
      "metadata": {
        "colab": {
          "base_uri": "https://localhost:8080/"
        },
        "id": "aGcINT-llNfi",
        "outputId": "495dc3e1-3bc8-4d03-eb50-fa1df9607a27"
      },
      "execution_count": 22,
      "outputs": [
        {
          "output_type": "stream",
          "name": "stdout",
          "text": [
            "Type: <class 'numpy.ndarray'>\n",
            "Shape: (2,)\n",
            "값: \n",
            " [29 67]\n",
            " \n",
            "Type: <class 'numpy.ndarray'>\n",
            "Shape: (2,)\n",
            "값: \n",
            " [29 67]\n",
            " \n"
          ]
        }
      ]
    },
    {
      "cell_type": "markdown",
      "source": [
        "#### 행렬-행렬 연산"
      ],
      "metadata": {
        "id": "unzkl8xXlaI_"
      }
    },
    {
      "cell_type": "code",
      "source": [
        "print_val(m1.dot(m2))\n",
        "print_val(np.dot(m1,m2))"
      ],
      "metadata": {
        "colab": {
          "base_uri": "https://localhost:8080/"
        },
        "id": "Fisi8RarlZuk",
        "outputId": "ac676201-f5ac-4fac-e99f-0db3c4f94111"
      },
      "execution_count": 23,
      "outputs": [
        {
          "output_type": "stream",
          "name": "stdout",
          "text": [
            "Type: <class 'numpy.ndarray'>\n",
            "Shape: (2, 2)\n",
            "값: \n",
            " [[19 22]\n",
            " [43 50]]\n",
            " \n",
            "Type: <class 'numpy.ndarray'>\n",
            "Shape: (2, 2)\n",
            "값: \n",
            " [[19 22]\n",
            " [43 50]]\n",
            " \n"
          ]
        }
      ]
    },
    {
      "cell_type": "markdown",
      "source": [
        "#### 전치 행렬(transpose)"
      ],
      "metadata": {
        "id": "8CrQYSIblm34"
      }
    },
    {
      "cell_type": "code",
      "source": [
        "print_val(m1)\n",
        "print_val(m1.T)"
      ],
      "metadata": {
        "colab": {
          "base_uri": "https://localhost:8080/"
        },
        "id": "4onrlEoalmHI",
        "outputId": "a5eb834c-0010-49ff-ad0e-56d9efda8852"
      },
      "execution_count": 25,
      "outputs": [
        {
          "output_type": "stream",
          "name": "stdout",
          "text": [
            "Type: <class 'numpy.ndarray'>\n",
            "Shape: (2, 2)\n",
            "값: \n",
            " [[1 2]\n",
            " [3 4]]\n",
            " \n",
            "Type: <class 'numpy.ndarray'>\n",
            "Shape: (2, 2)\n",
            "값: \n",
            " [[1 3]\n",
            " [2 4]]\n",
            " \n"
          ]
        }
      ]
    },
    {
      "cell_type": "markdown",
      "source": [
        "#### 합"
      ],
      "metadata": {
        "id": "hEqf-7eRl8-X"
      }
    },
    {
      "cell_type": "code",
      "source": [
        "print_val(np.sum(m1))\n",
        "print_val(np.sum(m1, axis=0))\n",
        "print_val(np.sum(m1, axis=1))"
      ],
      "metadata": {
        "colab": {
          "base_uri": "https://localhost:8080/"
        },
        "id": "SmbWL_tjlw72",
        "outputId": "e38402a2-6e03-4a27-9296-b39701872d5f"
      },
      "execution_count": 26,
      "outputs": [
        {
          "output_type": "stream",
          "name": "stdout",
          "text": [
            "Type: <class 'numpy.int64'>\n",
            "Shape: ()\n",
            "값: \n",
            " 10\n",
            " \n",
            "Type: <class 'numpy.ndarray'>\n",
            "Shape: (2,)\n",
            "값: \n",
            " [4 6]\n",
            " \n",
            "Type: <class 'numpy.ndarray'>\n",
            "Shape: (2,)\n",
            "값: \n",
            " [3 7]\n",
            " \n"
          ]
        }
      ]
    },
    {
      "cell_type": "code",
      "source": [
        "m1=np.array([[1,2,3],[4,5,6]])\n",
        "print(m1)\n",
        "print(m1.shape)"
      ],
      "metadata": {
        "colab": {
          "base_uri": "https://localhost:8080/"
        },
        "id": "gWoZ3_8GmACM",
        "outputId": "bb86b279-0f63-4ee4-c1a3-ec714fafb102"
      },
      "execution_count": 27,
      "outputs": [
        {
          "output_type": "stream",
          "name": "stdout",
          "text": [
            "[[1 2 3]\n",
            " [4 5 6]]\n",
            "(2, 3)\n"
          ]
        }
      ]
    },
    {
      "cell_type": "code",
      "source": [
        "print(np.sum(m1))\n",
        "print(np.sum(m1, axis=0))\n",
        "print(np.sum(m1, axis=1))"
      ],
      "metadata": {
        "colab": {
          "base_uri": "https://localhost:8080/"
        },
        "id": "a1BVoTQxmJCq",
        "outputId": "bd53d2d5-e23e-44b6-d5f1-6ebdeb459f0f"
      },
      "execution_count": 28,
      "outputs": [
        {
          "output_type": "stream",
          "name": "stdout",
          "text": [
            "21\n",
            "[5 7 9]\n",
            "[ 6 15]\n"
          ]
        }
      ]
    },
    {
      "cell_type": "markdown",
      "source": [
        "#### zeros-like"
      ],
      "metadata": {
        "id": "yFgqSqk5mbhv"
      }
    },
    {
      "cell_type": "code",
      "source": [
        "m1=np.array([[1,2,3],\n",
        "             [4,5,6],\n",
        "             [7,8,9],\n",
        "             [10,11,12]])\n",
        "m2=np.zeros_like(m1)\n",
        "print_val(m1)\n",
        "print_val(m2)"
      ],
      "metadata": {
        "colab": {
          "base_uri": "https://localhost:8080/"
        },
        "id": "I4ntJ-QImavx",
        "outputId": "af9c3059-3a2b-466d-c266-61c5f849a984"
      },
      "execution_count": 29,
      "outputs": [
        {
          "output_type": "stream",
          "name": "stdout",
          "text": [
            "Type: <class 'numpy.ndarray'>\n",
            "Shape: (4, 3)\n",
            "값: \n",
            " [[ 1  2  3]\n",
            " [ 4  5  6]\n",
            " [ 7  8  9]\n",
            " [10 11 12]]\n",
            " \n",
            "Type: <class 'numpy.ndarray'>\n",
            "Shape: (4, 3)\n",
            "값: \n",
            " [[0 0 0]\n",
            " [0 0 0]\n",
            " [0 0 0]\n",
            " [0 0 0]]\n",
            " \n"
          ]
        }
      ]
    },
    {
      "cell_type": "markdown",
      "source": [
        "#### Matplot library"
      ],
      "metadata": {
        "id": "BZzrOJTXmsQH"
      }
    },
    {
      "cell_type": "code",
      "source": [
        "import matplotlib.pyplot as plt\n",
        "%matplotlib inline"
      ],
      "metadata": {
        "id": "Yj2TlIrjmrn8"
      },
      "execution_count": 30,
      "outputs": []
    },
    {
      "cell_type": "code",
      "source": [
        "#sin 커브\n",
        "x=np.arange(0,10,0.1)\n",
        "y=np.sin(x)\n",
        "\n",
        "plt.plot(x,y)"
      ],
      "metadata": {
        "colab": {
          "base_uri": "https://localhost:8080/",
          "height": 283
        },
        "id": "RZbxyx4Km1a_",
        "outputId": "02eb2318-1353-4891-db64-b2f9acc7cd46"
      },
      "execution_count": 31,
      "outputs": [
        {
          "output_type": "execute_result",
          "data": {
            "text/plain": [
              "[<matplotlib.lines.Line2D at 0x7f5c8c892ac0>]"
            ]
          },
          "metadata": {},
          "execution_count": 31
        },
        {
          "output_type": "display_data",
          "data": {
            "text/plain": [
              "<Figure size 432x288 with 1 Axes>"
            ],
            "image/png": "[encoded data removed]"
          },
          "metadata": {
            "needs_background": "light"
          }
        }
      ]
    },
    {
      "cell_type": "markdown",
      "source": [
        "#### 한 번에 두 개 그래프 그리기"
      ],
      "metadata": {
        "id": "UHlCrOSGm_Gr"
      }
    },
    {
      "cell_type": "code",
      "source": [
        "y_sin=np.sin(x)\n",
        "y_cos=np.cos(x)\n",
        "\n",
        "plt.plot(x,y_sin)\n",
        "plt.plot(x,y_cos)\n",
        "plt.xlabel('x axis label')\n",
        "plt.ylabel('y axis label')\n",
        "plt.legend(['sin', 'cos'])\n",
        "\n",
        "plt.show()"
      ],
      "metadata": {
        "colab": {
          "base_uri": "https://localhost:8080/",
          "height": 279
        },
        "id": "W2VfisVfm-Bi",
        "outputId": "bb7cee32-2715-49a8-cb93-9aeb45e6970c"
      },
      "execution_count": 33,
      "outputs": [
        {
          "output_type": "display_data",
          "data": {
            "text/plain": [
              "<Figure size 432x288 with 1 Axes>"
            ],
            "image/png": "[encoded data removed]"
          },
          "metadata": {
            "needs_background": "light"
          }
        }
      ]
    },
    {
      "cell_type": "markdown",
      "source": [
        "#### Subplot"
      ],
      "metadata": {
        "id": "nRORwfyXnfkn"
      }
    },
    {
      "cell_type": "code",
      "source": [
        "plt.subplot(2,1,1)\n",
        "plt.plot(x, y_sin)\n",
        "plt.title('sin')\n",
        "\n",
        "plt.subplot(2,1,2)\n",
        "plt.plot(x,y_cos)\n",
        "plt.title('cos')\n",
        "\n",
        "plt.show()"
      ],
      "metadata": {
        "colab": {
          "base_uri": "https://localhost:8080/",
          "height": 281
        },
        "id": "Wktoyajwnahi",
        "outputId": "7a46aad0-e9f8-4873-8c08-c32d161da16b"
      },
      "execution_count": 34,
      "outputs": [
        {
          "output_type": "display_data",
          "data": {
            "text/plain": [
              "<Figure size 432x288 with 2 Axes>"
            ],
            "image/png": "[encoded data removed]"
          },
          "metadata": {
            "needs_background": "light"
          }
        }
      ]
    }
  ]
}