{
  "nbformat": 4,
  "nbformat_minor": 0,
  "metadata": {
    "colab": {
      "provenance": [],
      "mount_file_id": "12UsF0fZCoqizsmHfSDUw57tCTOTT23uy",
      "authorship_tag": "ABX9TyNinYv858Gmd1lK57r/LHRz",
      "include_colab_link": true
    },
    "kernelspec": {
      "name": "python3",
      "display_name": "Python 3"
    },
    "language_info": {
      "name": "python"
    }
  },
  "cells": [
    {
      "cell_type": "markdown",
      "metadata": {
        "id": "view-in-github",
        "colab_type": "text"
      },
      "source": [
        "<a href=\"https://colab.research.google.com/github/heodabin/Linear-Algebra2/blob/main/%EC%8B%A4%EC%8A%B5Zero.ipynb\" target=\"_parent\"><img src=\"https://colab.research.google.com/assets/colab-badge.svg\" alt=\"Open In Colab\"/></a>"
      ]
    },
    {
      "cell_type": "code",
      "execution_count": 1,
      "metadata": {
        "colab": {
          "base_uri": "https://localhost:8080/"
        },
        "id": "Qij3wmWT8i8U",
        "outputId": "a52a77cb-b766-4951-99a3-88328432c8da"
      },
      "outputs": [
        {
          "output_type": "stream",
          "name": "stdout",
          "text": [
            "Hello World\n"
          ]
        }
      ],
      "source": [
        "print(\"Hello World\")"
      ]
    },
    {
      "cell_type": "markdown",
      "source": [
        "#### 라이브러리(패키지)로드"
      ],
      "metadata": {
        "id": "YkAWZw88KBpr"
      }
    },
    {
      "cell_type": "code",
      "source": [
        "import numpy as np"
      ],
      "metadata": {
        "id": "zjgbF3OrJukJ"
      },
      "execution_count": 3,
      "outputs": []
    },
    {
      "cell_type": "markdown",
      "source": [
        "### 2.벡터, 행렬 연산, 그래프 그리기\n",
        "##### 프린트"
      ],
      "metadata": {
        "id": "O7CD1X0MKPRU"
      }
    },
    {
      "cell_type": "code",
      "source": [
        "def print_val(x):\n",
        "    print(\"Type:\", type(x))\n",
        "    print(\"Shape:\", x.shape)\n",
        "    print(\"값: \\n\", x)\n",
        "    print(\" \")"
      ],
      "metadata": {
        "id": "o0S--d8sJ8kS"
      },
      "execution_count": 4,
      "outputs": []
    },
    {
      "cell_type": "code",
      "source": [
        "x= np.array([1,2,3])\n",
        "print_val(x)\n",
        "\n",
        "x[0]=5\n",
        "print_val(x)"
      ],
      "metadata": {
        "colab": {
          "base_uri": "https://localhost:8080/"
        },
        "id": "LgsNT778LGsU",
        "outputId": "e4d24834-ac2f-4dbe-ad4f-03e9d0032e20"
      },
      "execution_count": 7,
      "outputs": [
        {
          "output_type": "stream",
          "name": "stdout",
          "text": [
            "Type: <class 'numpy.ndarray'>\n",
            "Shape: (3,)\n",
            "값: \n",
            " [1 2 3]\n",
            " \n",
            "Type: <class 'numpy.ndarray'>\n",
            "Shape: (3,)\n",
            "값: \n",
            " [5 2 3]\n",
            " \n"
          ]
        }
      ]
    },
    {
      "cell_type": "code",
      "source": [
        "y=np.array([[1,2,3],[4,5,6]])\n",
        "print_val(y)"
      ],
      "metadata": {
        "colab": {
          "base_uri": "https://localhost:8080/"
        },
        "id": "M4QqPMGYLm4H",
        "outputId": "b068f95e-1085-44fb-bb23-a2a0470b913b"
      },
      "execution_count": 8,
      "outputs": [
        {
          "output_type": "stream",
          "name": "stdout",
          "text": [
            "Type: <class 'numpy.ndarray'>\n",
            "Shape: (2, 3)\n",
            "값: \n",
            " [[1 2 3]\n",
            " [4 5 6]]\n",
            " \n"
          ]
        }
      ]
    },
    {
      "cell_type": "code",
      "source": [
        "a=np.ones((3,2))\n",
        "print_val(a)"
      ],
      "metadata": {
        "colab": {
          "base_uri": "https://localhost:8080/"
        },
        "id": "LgOA53FrLyx6",
        "outputId": "0cbff38c-31a0-4d5e-a419-f9561404e0aa"
      },
      "execution_count": 11,
      "outputs": [
        {
          "output_type": "stream",
          "name": "stdout",
          "text": [
            "Type: <class 'numpy.ndarray'>\n",
            "Shape: (3, 2)\n",
            "값: \n",
            " [[1. 1.]\n",
            " [1. 1.]\n",
            " [1. 1.]]\n",
            " \n"
          ]
        }
      ]
    },
    {
      "cell_type": "code",
      "source": [
        "a=np.zeros((2,2))\n",
        "print_val(a)"
      ],
      "metadata": {
        "colab": {
          "base_uri": "https://localhost:8080/"
        },
        "id": "6YL2OL1WLr9S",
        "outputId": "3e225d2a-e91e-4b5d-9311-cc5afe9f3917"
      },
      "execution_count": 12,
      "outputs": [
        {
          "output_type": "stream",
          "name": "stdout",
          "text": [
            "Type: <class 'numpy.ndarray'>\n",
            "Shape: (2, 2)\n",
            "값: \n",
            " [[0. 0.]\n",
            " [0. 0.]]\n",
            " \n"
          ]
        }
      ]
    },
    {
      "cell_type": "code",
      "source": [
        "a=np.eye(3,3)\n",
        "print_val(a)"
      ],
      "metadata": {
        "colab": {
          "base_uri": "https://localhost:8080/"
        },
        "id": "FMqvuxmdL8fJ",
        "outputId": "cf393bca-3765-4eb7-a515-a84dfb4b475b"
      },
      "execution_count": 13,
      "outputs": [
        {
          "output_type": "stream",
          "name": "stdout",
          "text": [
            "Type: <class 'numpy.ndarray'>\n",
            "Shape: (3, 3)\n",
            "값: \n",
            " [[1. 0. 0.]\n",
            " [0. 1. 0.]\n",
            " [0. 0. 1.]]\n",
            " \n"
          ]
        }
      ]
    },
    {
      "cell_type": "code",
      "source": [
        "a=np.random.random((4,4))\n",
        "print_val(a)"
      ],
      "metadata": {
        "colab": {
          "base_uri": "https://localhost:8080/"
        },
        "id": "0slTHEjmMF_q",
        "outputId": "8dee94eb-a74e-4e77-f46b-c148aa79056e"
      },
      "execution_count": 14,
      "outputs": [
        {
          "output_type": "stream",
          "name": "stdout",
          "text": [
            "Type: <class 'numpy.ndarray'>\n",
            "Shape: (4, 4)\n",
            "값: \n",
            " [[0.869903   0.52244158 0.03395284 0.58267093]\n",
            " [0.73234174 0.47816758 0.09676764 0.86367772]\n",
            " [0.19425008 0.15066798 0.1654196  0.60201547]\n",
            " [0.81549356 0.41386313 0.19916658 0.69183221]]\n",
            " \n"
          ]
        }
      ]
    },
    {
      "cell_type": "code",
      "source": [
        "a=np.random.randn(4,4)\n",
        "print_val(a)"
      ],
      "metadata": {
        "colab": {
          "base_uri": "https://localhost:8080/"
        },
        "id": "xlrTqbrxMlsz",
        "outputId": "8729d92c-d54a-4a05-b3b6-8799894b80d8"
      },
      "execution_count": 17,
      "outputs": [
        {
          "output_type": "stream",
          "name": "stdout",
          "text": [
            "Type: <class 'numpy.ndarray'>\n",
            "Shape: (4, 4)\n",
            "값: \n",
            " [[-2.18754968  0.35790025 -2.06891219  0.06584488]\n",
            " [-0.67707747  0.29367193  1.65340913 -0.05301858]\n",
            " [-0.4583745  -0.48723762 -1.28004039  1.10215594]\n",
            " [ 1.18919462 -1.21503893  0.73695205 -0.32777087]]\n",
            " \n"
          ]
        }
      ]
    }
  ]
}